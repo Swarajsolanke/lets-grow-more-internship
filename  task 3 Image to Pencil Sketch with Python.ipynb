{
 "cells": [
  {
   "cell_type": "markdown",
   "id": "4b402681",
   "metadata": {},
   "source": [
    "# LET'S GROW MORE INTERNSHIP -2023 APRIL\n",
    "## NAME=SWARAJ SOLANKE\n",
    "\n",
    "### task3: Image to Pencil Sketch with Python:"
   ]
  },
  {
   "cell_type": "markdown",
   "id": "b8de0e55",
   "metadata": {},
   "source": [
    "# importing library "
   ]
  },
  {
   "cell_type": "code",
   "execution_count": 3,
   "id": "2ac4e346",
   "metadata": {},
   "outputs": [],
   "source": [
    "import cv2\n"
   ]
  },
  {
   "cell_type": "markdown",
   "id": "c4764eb6",
   "metadata": {},
   "source": [
    "# to read image using imread \n"
   ]
  },
  {
   "cell_type": "markdown",
   "id": "70ee3e69",
   "metadata": {},
   "source": [
    "<img src=\"puppy1.jpg\" style=\"width:400px;height:200px\"/>"
   ]
  },
  {
   "cell_type": "code",
   "execution_count": null,
   "id": "0809a382",
   "metadata": {},
   "outputs": [],
   "source": [
    "\n",
    "image=cv2.imread(\"puppy.jpg\")\n",
    "\n",
    "\n",
    "\n",
    "\n",
    "\n"
   ]
  },
  {
   "cell_type": "markdown",
   "id": "a567b8ba",
   "metadata": {},
   "source": [
    "# converted image into grey color"
   ]
  },
  {
   "cell_type": "code",
   "execution_count": 9,
   "id": "c2a8aee5",
   "metadata": {},
   "outputs": [],
   "source": [
    "grey_image=cv2.cvtColor(image,cv2.COLOR_BGR2GRAY)\n"
   ]
  },
  {
   "cell_type": "code",
   "execution_count": 10,
   "id": "f79caa3f",
   "metadata": {},
   "outputs": [],
   "source": [
    "inverted=255-grey_image"
   ]
  },
  {
   "cell_type": "markdown",
   "id": "b1d1281b",
   "metadata": {},
   "source": [
    "# make the image blurr"
   ]
  },
  {
   "cell_type": "code",
   "execution_count": 12,
   "id": "fee47208",
   "metadata": {},
   "outputs": [],
   "source": [
    "bluerred=cv2.GaussianBlur(inverted,(21,21),0)\n"
   ]
  },
  {
   "cell_type": "code",
   "execution_count": 18,
   "id": "91bd7d94",
   "metadata": {},
   "outputs": [],
   "source": [
    "invertedblur=255-bluerred\n"
   ]
  },
  {
   "cell_type": "markdown",
   "id": "0b05ada3",
   "metadata": {},
   "source": [
    "# converted the blurr image into pencil sketch"
   ]
  },
  {
   "cell_type": "markdown",
   "id": "a410456f",
   "metadata": {},
   "source": [
    "<img src=\"puppy.jpg\" style=\"width:400px;height:200px\"/>"
   ]
  },
  {
   "cell_type": "code",
   "execution_count": 20,
   "id": "6faafce0",
   "metadata": {},
   "outputs": [],
   "source": [
    "pencilsketch=cv2.divide(grey_image,invertedblur,scale=256.0)"
   ]
  },
  {
   "cell_type": "code",
   "execution_count": 21,
   "id": "a50a1d64",
   "metadata": {},
   "outputs": [
    {
     "data": {
      "text/plain": [
       "True"
      ]
     },
     "execution_count": 21,
     "metadata": {},
     "output_type": "execute_result"
    }
   ],
   "source": [
    "cv2.imwrite(\"puppy.jpg\", pencilsketch)"
   ]
  }
 ],
 "metadata": {
  "kernelspec": {
   "display_name": "Python 3 (ipykernel)",
   "language": "python",
   "name": "python3"
  },
  "language_info": {
   "codemirror_mode": {
    "name": "ipython",
    "version": 3
   },
   "file_extension": ".py",
   "mimetype": "text/x-python",
   "name": "python",
   "nbconvert_exporter": "python",
   "pygments_lexer": "ipython3",
   "version": "3.9.13"
  }
 },
 "nbformat": 4,
 "nbformat_minor": 5
}
